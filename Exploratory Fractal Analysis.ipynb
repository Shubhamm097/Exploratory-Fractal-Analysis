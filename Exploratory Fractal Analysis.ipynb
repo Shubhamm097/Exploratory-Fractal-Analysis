{
 "cells": [
  {
   "cell_type": "markdown",
   "metadata": {},
   "source": [
    "#### Importing libraries"
   ]
  },
  {
   "cell_type": "code",
   "execution_count": 1,
   "metadata": {},
   "outputs": [],
   "source": [
    "import numpy as np\n",
    "import seaborn as sns\n",
    "import matplotlib.pyplot as plt\n",
    "import pandas as pd"
   ]
  },
  {
   "cell_type": "markdown",
   "metadata": {},
   "source": [
    "#### Loading the dataset"
   ]
  },
  {
   "cell_type": "code",
   "execution_count": 2,
   "metadata": {},
   "outputs": [],
   "source": [
    "df = pd.read_csv('intern_dataset.csv')"
   ]
  },
  {
   "cell_type": "code",
   "execution_count": 3,
   "metadata": {},
   "outputs": [
    {
     "data": {
      "text/html": [
       "<div>\n",
       "<style scoped>\n",
       "    .dataframe tbody tr th:only-of-type {\n",
       "        vertical-align: middle;\n",
       "    }\n",
       "\n",
       "    .dataframe tbody tr th {\n",
       "        vertical-align: top;\n",
       "    }\n",
       "\n",
       "    .dataframe thead th {\n",
       "        text-align: right;\n",
       "    }\n",
       "</style>\n",
       "<table border=\"1\" class=\"dataframe\">\n",
       "  <thead>\n",
       "    <tr style=\"text-align: right;\">\n",
       "      <th></th>\n",
       "      <th>Time</th>\n",
       "      <th>Signal1</th>\n",
       "      <th>Signal2</th>\n",
       "      <th>Label</th>\n",
       "    </tr>\n",
       "  </thead>\n",
       "  <tbody>\n",
       "    <tr>\n",
       "      <th>0</th>\n",
       "      <td>2017-08-14 11:37:49.791</td>\n",
       "      <td>33668.091913</td>\n",
       "      <td>0.856726</td>\n",
       "      <td>A</td>\n",
       "    </tr>\n",
       "    <tr>\n",
       "      <th>1</th>\n",
       "      <td>2017-08-14 11:37:49.801</td>\n",
       "      <td>32564.903040</td>\n",
       "      <td>0.856705</td>\n",
       "      <td>A</td>\n",
       "    </tr>\n",
       "    <tr>\n",
       "      <th>2</th>\n",
       "      <td>2017-08-14 11:37:49.811</td>\n",
       "      <td>31454.043305</td>\n",
       "      <td>0.856683</td>\n",
       "      <td>A</td>\n",
       "    </tr>\n",
       "    <tr>\n",
       "      <th>3</th>\n",
       "      <td>2017-08-14 11:37:49.821</td>\n",
       "      <td>30335.387166</td>\n",
       "      <td>0.856659</td>\n",
       "      <td>A</td>\n",
       "    </tr>\n",
       "    <tr>\n",
       "      <th>4</th>\n",
       "      <td>2017-08-14 11:37:49.831</td>\n",
       "      <td>29207.142938</td>\n",
       "      <td>0.856634</td>\n",
       "      <td>A</td>\n",
       "    </tr>\n",
       "  </tbody>\n",
       "</table>\n",
       "</div>"
      ],
      "text/plain": [
       "                      Time       Signal1   Signal2 Label\n",
       "0  2017-08-14 11:37:49.791  33668.091913  0.856726     A\n",
       "1  2017-08-14 11:37:49.801  32564.903040  0.856705     A\n",
       "2  2017-08-14 11:37:49.811  31454.043305  0.856683     A\n",
       "3  2017-08-14 11:37:49.821  30335.387166  0.856659     A\n",
       "4  2017-08-14 11:37:49.831  29207.142938  0.856634     A"
      ]
     },
     "execution_count": 3,
     "metadata": {},
     "output_type": "execute_result"
    }
   ],
   "source": [
    "df.head()"
   ]
  },
  {
   "cell_type": "code",
   "execution_count": 4,
   "metadata": {},
   "outputs": [
    {
     "data": {
      "text/html": [
       "<div>\n",
       "<style scoped>\n",
       "    .dataframe tbody tr th:only-of-type {\n",
       "        vertical-align: middle;\n",
       "    }\n",
       "\n",
       "    .dataframe tbody tr th {\n",
       "        vertical-align: top;\n",
       "    }\n",
       "\n",
       "    .dataframe thead th {\n",
       "        text-align: right;\n",
       "    }\n",
       "</style>\n",
       "<table border=\"1\" class=\"dataframe\">\n",
       "  <thead>\n",
       "    <tr style=\"text-align: right;\">\n",
       "      <th></th>\n",
       "      <th>Time</th>\n",
       "      <th>Signal1</th>\n",
       "      <th>Signal2</th>\n",
       "      <th>Label</th>\n",
       "    </tr>\n",
       "  </thead>\n",
       "  <tbody>\n",
       "    <tr>\n",
       "      <th>911995</th>\n",
       "      <td>2020-01-04 10:55:49.186</td>\n",
       "      <td>34673.811155</td>\n",
       "      <td>0.151395</td>\n",
       "      <td>C</td>\n",
       "    </tr>\n",
       "    <tr>\n",
       "      <th>911996</th>\n",
       "      <td>2020-01-04 10:55:49.196</td>\n",
       "      <td>34672.951723</td>\n",
       "      <td>0.151385</td>\n",
       "      <td>C</td>\n",
       "    </tr>\n",
       "    <tr>\n",
       "      <th>911997</th>\n",
       "      <td>2020-01-04 10:55:49.206</td>\n",
       "      <td>34671.967555</td>\n",
       "      <td>0.151373</td>\n",
       "      <td>C</td>\n",
       "    </tr>\n",
       "    <tr>\n",
       "      <th>911998</th>\n",
       "      <td>2020-01-04 10:55:49.216</td>\n",
       "      <td>34670.877944</td>\n",
       "      <td>0.151359</td>\n",
       "      <td>C</td>\n",
       "    </tr>\n",
       "    <tr>\n",
       "      <th>911999</th>\n",
       "      <td>2020-01-04 10:55:49.226</td>\n",
       "      <td>34669.694865</td>\n",
       "      <td>0.151342</td>\n",
       "      <td>C</td>\n",
       "    </tr>\n",
       "  </tbody>\n",
       "</table>\n",
       "</div>"
      ],
      "text/plain": [
       "                           Time       Signal1   Signal2 Label\n",
       "911995  2020-01-04 10:55:49.186  34673.811155  0.151395     C\n",
       "911996  2020-01-04 10:55:49.196  34672.951723  0.151385     C\n",
       "911997  2020-01-04 10:55:49.206  34671.967555  0.151373     C\n",
       "911998  2020-01-04 10:55:49.216  34670.877944  0.151359     C\n",
       "911999  2020-01-04 10:55:49.226  34669.694865  0.151342     C"
      ]
     },
     "execution_count": 4,
     "metadata": {},
     "output_type": "execute_result"
    }
   ],
   "source": [
    "df.tail()"
   ]
  },
  {
   "cell_type": "code",
   "execution_count": 5,
   "metadata": {},
   "outputs": [
    {
     "data": {
      "text/html": [
       "<div>\n",
       "<style scoped>\n",
       "    .dataframe tbody tr th:only-of-type {\n",
       "        vertical-align: middle;\n",
       "    }\n",
       "\n",
       "    .dataframe tbody tr th {\n",
       "        vertical-align: top;\n",
       "    }\n",
       "\n",
       "    .dataframe thead th {\n",
       "        text-align: right;\n",
       "    }\n",
       "</style>\n",
       "<table border=\"1\" class=\"dataframe\">\n",
       "  <thead>\n",
       "    <tr style=\"text-align: right;\">\n",
       "      <th></th>\n",
       "      <th>Signal1</th>\n",
       "      <th>Signal2</th>\n",
       "    </tr>\n",
       "  </thead>\n",
       "  <tbody>\n",
       "    <tr>\n",
       "      <th>count</th>\n",
       "      <td>912000.000000</td>\n",
       "      <td>912000.000000</td>\n",
       "    </tr>\n",
       "    <tr>\n",
       "      <th>mean</th>\n",
       "      <td>31315.380483</td>\n",
       "      <td>0.398004</td>\n",
       "    </tr>\n",
       "    <tr>\n",
       "      <th>std</th>\n",
       "      <td>11700.734813</td>\n",
       "      <td>0.258119</td>\n",
       "    </tr>\n",
       "    <tr>\n",
       "      <th>min</th>\n",
       "      <td>-2934.328327</td>\n",
       "      <td>0.113841</td>\n",
       "    </tr>\n",
       "    <tr>\n",
       "      <th>25%</th>\n",
       "      <td>23851.958837</td>\n",
       "      <td>0.162522</td>\n",
       "    </tr>\n",
       "    <tr>\n",
       "      <th>50%</th>\n",
       "      <td>30650.812455</td>\n",
       "      <td>0.261210</td>\n",
       "    </tr>\n",
       "    <tr>\n",
       "      <th>75%</th>\n",
       "      <td>37933.966586</td>\n",
       "      <td>0.546605</td>\n",
       "    </tr>\n",
       "    <tr>\n",
       "      <th>max</th>\n",
       "      <td>67692.652022</td>\n",
       "      <td>1.356019</td>\n",
       "    </tr>\n",
       "  </tbody>\n",
       "</table>\n",
       "</div>"
      ],
      "text/plain": [
       "             Signal1        Signal2\n",
       "count  912000.000000  912000.000000\n",
       "mean    31315.380483       0.398004\n",
       "std     11700.734813       0.258119\n",
       "min     -2934.328327       0.113841\n",
       "25%     23851.958837       0.162522\n",
       "50%     30650.812455       0.261210\n",
       "75%     37933.966586       0.546605\n",
       "max     67692.652022       1.356019"
      ]
     },
     "execution_count": 5,
     "metadata": {},
     "output_type": "execute_result"
    }
   ],
   "source": [
    "df.describe()"
   ]
  },
  {
   "cell_type": "code",
   "execution_count": 6,
   "metadata": {},
   "outputs": [
    {
     "name": "stdout",
     "output_type": "stream",
     "text": [
      "<class 'pandas.core.frame.DataFrame'>\n",
      "RangeIndex: 912000 entries, 0 to 911999\n",
      "Data columns (total 4 columns):\n",
      " #   Column   Non-Null Count   Dtype  \n",
      "---  ------   --------------   -----  \n",
      " 0   Time     912000 non-null  object \n",
      " 1   Signal1  912000 non-null  float64\n",
      " 2   Signal2  912000 non-null  float64\n",
      " 3   Label    912000 non-null  object \n",
      "dtypes: float64(2), object(2)\n",
      "memory usage: 27.8+ MB\n"
     ]
    }
   ],
   "source": [
    "df.info()"
   ]
  },
  {
   "cell_type": "markdown",
   "metadata": {},
   "source": [
    "#### Cleaning the dataset\n",
    "Checking for any null values"
   ]
  },
  {
   "cell_type": "code",
   "execution_count": 7,
   "metadata": {},
   "outputs": [
    {
     "data": {
      "text/plain": [
       "Time       0\n",
       "Signal1    0\n",
       "Signal2    0\n",
       "Label      0\n",
       "dtype: int64"
      ]
     },
     "execution_count": 7,
     "metadata": {},
     "output_type": "execute_result"
    }
   ],
   "source": [
    "df.isnull().sum()"
   ]
  },
  {
   "cell_type": "code",
   "execution_count": 8,
   "metadata": {},
   "outputs": [
    {
     "data": {
      "text/plain": [
       "array(['A', 'C', 'B'], dtype=object)"
      ]
     },
     "execution_count": 8,
     "metadata": {},
     "output_type": "execute_result"
    }
   ],
   "source": [
    "df['Label'].unique()"
   ]
  },
  {
   "cell_type": "code",
   "execution_count": 9,
   "metadata": {},
   "outputs": [
    {
     "data": {
      "text/plain": [
       "A    318000\n",
       "B    312000\n",
       "C    282000\n",
       "Name: Label, dtype: int64"
      ]
     },
     "execution_count": 9,
     "metadata": {},
     "output_type": "execute_result"
    }
   ],
   "source": [
    "df['Label'].value_counts()"
   ]
  },
  {
   "cell_type": "markdown",
   "metadata": {},
   "source": [
    "#### Scatterplot between Signal-1, Signal2 and Labels"
   ]
  },
  {
   "cell_type": "code",
   "execution_count": 10,
   "metadata": {},
   "outputs": [
    {
     "data": {
      "text/plain": [
       "<AxesSubplot:xlabel='Signal1', ylabel='Label'>"
      ]
     },
     "execution_count": 10,
     "metadata": {},
     "output_type": "execute_result"
    },
    {
     "data": {
      "image/png": "[encoded data removed]",
      "text/plain": [
       "<Figure size 432x288 with 1 Axes>"
      ]
     },
     "metadata": {
      "needs_background": "light"
     },
     "output_type": "display_data"
    }
   ],
   "source": [
    "sns.scatterplot(x=df['Signal1'], y=df['Label'])"
   ]
  },
  {
   "cell_type": "code",
   "execution_count": 11,
   "metadata": {},
   "outputs": [
    {
     "data": {
      "text/plain": [
       "<AxesSubplot:xlabel='Signal2', ylabel='Label'>"
      ]
     },
     "execution_count": 11,
     "metadata": {},
     "output_type": "execute_result"
    },
    {
     "data": {
      "image/png": "[encoded data removed]",
      "text/plain": [
       "<Figure size 432x288 with 1 Axes>"
      ]
     },
     "metadata": {
      "needs_background": "light"
     },
     "output_type": "display_data"
    }
   ],
   "source": [
    "sns.scatterplot(x=df['Signal2'], y=df['Label'])"
   ]
  },
  {
   "cell_type": "markdown",
   "metadata": {},
   "source": [
    "#### Boxplot between Signal-1, Signal-2 and Labels"
   ]
  },
  {
   "cell_type": "code",
   "execution_count": 12,
   "metadata": {},
   "outputs": [
    {
     "data": {
      "text/plain": [
       "<AxesSubplot:xlabel='Signal1', ylabel='Label'>"
      ]
     },
     "execution_count": 12,
     "metadata": {},
     "output_type": "execute_result"
    },
    {
     "data": {
      "image/png": "[encoded data removed]",
      "text/plain": [
       "<Figure size 432x288 with 1 Axes>"
      ]
     },
     "metadata": {
      "needs_background": "light"
     },
     "output_type": "display_data"
    }
   ],
   "source": [
    "sns.boxplot(x=df['Signal1'], y=df['Label'])"
   ]
  },
  {
   "cell_type": "code",
   "execution_count": 13,
   "metadata": {},
   "outputs": [
    {
     "data": {
      "text/plain": [
       "<AxesSubplot:xlabel='Signal2', ylabel='Label'>"
      ]
     },
     "execution_count": 13,
     "metadata": {},
     "output_type": "execute_result"
    },
    {
     "data": {
      "image/png": "[encoded data removed]",
      "text/plain": [
       "<Figure size 432x288 with 1 Axes>"
      ]
     },
     "metadata": {
      "needs_background": "light"
     },
     "output_type": "display_data"
    }
   ],
   "source": [
    "sns.boxplot(x=df['Signal2'], y=df['Label'])"
   ]
  },
  {
   "cell_type": "markdown",
   "metadata": {},
   "source": [
    "#### Data pre-processing\n",
    "Extracting the year from the time column"
   ]
  },
  {
   "cell_type": "code",
   "execution_count": 14,
   "metadata": {},
   "outputs": [],
   "source": [
    "df['Year'] = df['Time'].apply(lambda x: int(x[:4]))"
   ]
  },
  {
   "cell_type": "code",
   "execution_count": 15,
   "metadata": {},
   "outputs": [
    {
     "data": {
      "text/plain": [
       "0         2017\n",
       "1         2017\n",
       "2         2017\n",
       "3         2017\n",
       "4         2017\n",
       "          ... \n",
       "911995    2020\n",
       "911996    2020\n",
       "911997    2020\n",
       "911998    2020\n",
       "911999    2020\n",
       "Name: Year, Length: 912000, dtype: int64"
      ]
     },
     "execution_count": 15,
     "metadata": {},
     "output_type": "execute_result"
    }
   ],
   "source": [
    "df['Year']"
   ]
  },
  {
   "cell_type": "code",
   "execution_count": 16,
   "metadata": {},
   "outputs": [
    {
     "data": {
      "text/plain": [
       "2017    822000\n",
       "2020     90000\n",
       "Name: Year, dtype: int64"
      ]
     },
     "execution_count": 16,
     "metadata": {},
     "output_type": "execute_result"
    }
   ],
   "source": [
    "df['Year'].value_counts()"
   ]
  },
  {
   "cell_type": "code",
   "execution_count": 17,
   "metadata": {},
   "outputs": [
    {
     "name": "stdout",
     "output_type": "stream",
     "text": [
      "<class 'pandas.core.frame.DataFrame'>\n",
      "RangeIndex: 912000 entries, 0 to 911999\n",
      "Data columns (total 5 columns):\n",
      " #   Column   Non-Null Count   Dtype  \n",
      "---  ------   --------------   -----  \n",
      " 0   Time     912000 non-null  object \n",
      " 1   Signal1  912000 non-null  float64\n",
      " 2   Signal2  912000 non-null  float64\n",
      " 3   Label    912000 non-null  object \n",
      " 4   Year     912000 non-null  int64  \n",
      "dtypes: float64(2), int64(1), object(2)\n",
      "memory usage: 34.8+ MB\n"
     ]
    }
   ],
   "source": [
    "df.info()"
   ]
  },
  {
   "cell_type": "markdown",
   "metadata": {},
   "source": [
    "#### Scatterplot between Year and Label"
   ]
  },
  {
   "cell_type": "code",
   "execution_count": 19,
   "metadata": {},
   "outputs": [
    {
     "data": {
      "text/plain": [
       "<AxesSubplot:xlabel='Year', ylabel='Label'>"
      ]
     },
     "execution_count": 19,
     "metadata": {},
     "output_type": "execute_result"
    },
    {
     "data": {
      "image/png": "[encoded data removed]",
      "text/plain": [
       "<Figure size 432x288 with 1 Axes>"
      ]
     },
     "metadata": {
      "needs_background": "light"
     },
     "output_type": "display_data"
    }
   ],
   "source": [
    "sns.scatterplot(x=df['Year'], y=df['Label'])"
   ]
  },
  {
   "cell_type": "code",
   "execution_count": 24,
   "metadata": {},
   "outputs": [],
   "source": [
    "df['Month'] = df['Time'].apply(lambda x: int(x[5:7]))"
   ]
  },
  {
   "cell_type": "code",
   "execution_count": 25,
   "metadata": {},
   "outputs": [
    {
     "data": {
      "text/plain": [
       "0         8\n",
       "1         8\n",
       "2         8\n",
       "3         8\n",
       "4         8\n",
       "         ..\n",
       "911995    1\n",
       "911996    1\n",
       "911997    1\n",
       "911998    1\n",
       "911999    1\n",
       "Name: Month, Length: 912000, dtype: int64"
      ]
     },
     "execution_count": 25,
     "metadata": {},
     "output_type": "execute_result"
    }
   ],
   "source": [
    "df['Month']"
   ]
  },
  {
   "cell_type": "code",
   "execution_count": 26,
   "metadata": {},
   "outputs": [
    {
     "data": {
      "text/plain": [
       "9    498000\n",
       "8    324000\n",
       "1     90000\n",
       "Name: Month, dtype: int64"
      ]
     },
     "execution_count": 26,
     "metadata": {},
     "output_type": "execute_result"
    }
   ],
   "source": [
    "df['Month'].value_counts()"
   ]
  },
  {
   "cell_type": "code",
   "execution_count": 28,
   "metadata": {},
   "outputs": [
    {
     "data": {
      "text/plain": [
       "<AxesSubplot:xlabel='Label', ylabel='Month'>"
      ]
     },
     "execution_count": 28,
     "metadata": {},
     "output_type": "execute_result"
    },
    {
     "data": {
      "image/png": "[encoded data removed]",
      "text/plain": [
       "<Figure size 432x288 with 1 Axes>"
      ]
     },
     "metadata": {
      "needs_background": "light"
     },
     "output_type": "display_data"
    }
   ],
   "source": [
    "sns.scatterplot(x=df['Label'], y=df['Month'])"
   ]
  },
  {
   "cell_type": "markdown",
   "metadata": {},
   "source": [
    "#### Extracting information having Label-A"
   ]
  },
  {
   "cell_type": "code",
   "execution_count": 40,
   "metadata": {},
   "outputs": [
    {
     "data": {
      "text/html": [
       "<div>\n",
       "<style scoped>\n",
       "    .dataframe tbody tr th:only-of-type {\n",
       "        vertical-align: middle;\n",
       "    }\n",
       "\n",
       "    .dataframe tbody tr th {\n",
       "        vertical-align: top;\n",
       "    }\n",
       "\n",
       "    .dataframe thead th {\n",
       "        text-align: right;\n",
       "    }\n",
       "</style>\n",
       "<table border=\"1\" class=\"dataframe\">\n",
       "  <thead>\n",
       "    <tr style=\"text-align: right;\">\n",
       "      <th></th>\n",
       "      <th>Time</th>\n",
       "      <th>Signal1</th>\n",
       "      <th>Signal2</th>\n",
       "      <th>Label</th>\n",
       "      <th>Year</th>\n",
       "      <th>Month</th>\n",
       "    </tr>\n",
       "  </thead>\n",
       "  <tbody>\n",
       "    <tr>\n",
       "      <th>0</th>\n",
       "      <td>2017-08-14 11:37:49.791</td>\n",
       "      <td>33668.091913</td>\n",
       "      <td>0.856726</td>\n",
       "      <td>A</td>\n",
       "      <td>2017</td>\n",
       "      <td>8</td>\n",
       "    </tr>\n",
       "    <tr>\n",
       "      <th>1</th>\n",
       "      <td>2017-08-14 11:37:49.801</td>\n",
       "      <td>32564.903040</td>\n",
       "      <td>0.856705</td>\n",
       "      <td>A</td>\n",
       "      <td>2017</td>\n",
       "      <td>8</td>\n",
       "    </tr>\n",
       "    <tr>\n",
       "      <th>2</th>\n",
       "      <td>2017-08-14 11:37:49.811</td>\n",
       "      <td>31454.043305</td>\n",
       "      <td>0.856683</td>\n",
       "      <td>A</td>\n",
       "      <td>2017</td>\n",
       "      <td>8</td>\n",
       "    </tr>\n",
       "    <tr>\n",
       "      <th>3</th>\n",
       "      <td>2017-08-14 11:37:49.821</td>\n",
       "      <td>30335.387166</td>\n",
       "      <td>0.856659</td>\n",
       "      <td>A</td>\n",
       "      <td>2017</td>\n",
       "      <td>8</td>\n",
       "    </tr>\n",
       "    <tr>\n",
       "      <th>4</th>\n",
       "      <td>2017-08-14 11:37:49.831</td>\n",
       "      <td>29207.142938</td>\n",
       "      <td>0.856634</td>\n",
       "      <td>A</td>\n",
       "      <td>2017</td>\n",
       "      <td>8</td>\n",
       "    </tr>\n",
       "    <tr>\n",
       "      <th>...</th>\n",
       "      <td>...</td>\n",
       "      <td>...</td>\n",
       "      <td>...</td>\n",
       "      <td>...</td>\n",
       "      <td>...</td>\n",
       "      <td>...</td>\n",
       "    </tr>\n",
       "    <tr>\n",
       "      <th>317995</th>\n",
       "      <td>2017-09-19 12:13:44.148</td>\n",
       "      <td>65807.274554</td>\n",
       "      <td>0.245727</td>\n",
       "      <td>A</td>\n",
       "      <td>2017</td>\n",
       "      <td>9</td>\n",
       "    </tr>\n",
       "    <tr>\n",
       "      <th>317996</th>\n",
       "      <td>2017-09-19 12:13:44.158</td>\n",
       "      <td>65692.473335</td>\n",
       "      <td>0.245748</td>\n",
       "      <td>A</td>\n",
       "      <td>2017</td>\n",
       "      <td>9</td>\n",
       "    </tr>\n",
       "    <tr>\n",
       "      <th>317997</th>\n",
       "      <td>2017-09-19 12:13:44.168</td>\n",
       "      <td>65472.863928</td>\n",
       "      <td>0.245770</td>\n",
       "      <td>A</td>\n",
       "      <td>2017</td>\n",
       "      <td>9</td>\n",
       "    </tr>\n",
       "    <tr>\n",
       "      <th>317998</th>\n",
       "      <td>2017-09-19 12:13:44.178</td>\n",
       "      <td>65147.555563</td>\n",
       "      <td>0.245792</td>\n",
       "      <td>A</td>\n",
       "      <td>2017</td>\n",
       "      <td>9</td>\n",
       "    </tr>\n",
       "    <tr>\n",
       "      <th>317999</th>\n",
       "      <td>2017-09-19 12:13:44.188</td>\n",
       "      <td>64715.020885</td>\n",
       "      <td>0.245815</td>\n",
       "      <td>A</td>\n",
       "      <td>2017</td>\n",
       "      <td>9</td>\n",
       "    </tr>\n",
       "  </tbody>\n",
       "</table>\n",
       "<p>318000 rows × 6 columns</p>\n",
       "</div>"
      ],
      "text/plain": [
       "                           Time       Signal1   Signal2 Label  Year  Month\n",
       "0       2017-08-14 11:37:49.791  33668.091913  0.856726     A  2017      8\n",
       "1       2017-08-14 11:37:49.801  32564.903040  0.856705     A  2017      8\n",
       "2       2017-08-14 11:37:49.811  31454.043305  0.856683     A  2017      8\n",
       "3       2017-08-14 11:37:49.821  30335.387166  0.856659     A  2017      8\n",
       "4       2017-08-14 11:37:49.831  29207.142938  0.856634     A  2017      8\n",
       "...                         ...           ...       ...   ...   ...    ...\n",
       "317995  2017-09-19 12:13:44.148  65807.274554  0.245727     A  2017      9\n",
       "317996  2017-09-19 12:13:44.158  65692.473335  0.245748     A  2017      9\n",
       "317997  2017-09-19 12:13:44.168  65472.863928  0.245770     A  2017      9\n",
       "317998  2017-09-19 12:13:44.178  65147.555563  0.245792     A  2017      9\n",
       "317999  2017-09-19 12:13:44.188  64715.020885  0.245815     A  2017      9\n",
       "\n",
       "[318000 rows x 6 columns]"
      ]
     },
     "execution_count": 40,
     "metadata": {},
     "output_type": "execute_result"
    }
   ],
   "source": [
    "signalA = df[df['Label'] == 'A']\n",
    "signalA"
   ]
  },
  {
   "cell_type": "code",
   "execution_count": 41,
   "metadata": {},
   "outputs": [
    {
     "data": {
      "text/plain": [
       "[<matplotlib.lines.Line2D at 0x2188c7ccac8>]"
      ]
     },
     "execution_count": 41,
     "metadata": {},
     "output_type": "execute_result"
    },
    {
     "data": {
      "image/png": "[encoded data removed]",
      "text/plain": [
       "<Figure size 432x288 with 1 Axes>"
      ]
     },
     "metadata": {
      "needs_background": "light"
     },
     "output_type": "display_data"
    }
   ],
   "source": [
    "plt.plot(signalA['Signal1'])"
   ]
  },
  {
   "cell_type": "code",
   "execution_count": 42,
   "metadata": {},
   "outputs": [
    {
     "data": {
      "text/plain": [
       "[<matplotlib.lines.Line2D at 0x2188c836550>]"
      ]
     },
     "execution_count": 42,
     "metadata": {},
     "output_type": "execute_result"
    },
    {
     "data": {
      "image/png": "[encoded data removed]",
      "text/plain": [
       "<Figure size 432x288 with 1 Axes>"
      ]
     },
     "metadata": {
      "needs_background": "light"
     },
     "output_type": "display_data"
    }
   ],
   "source": [
    "plt.plot(signalA['Signal2'])"
   ]
  },
  {
   "cell_type": "markdown",
   "metadata": {},
   "source": [
    "#### Extracting information having Label-B"
   ]
  },
  {
   "cell_type": "code",
   "execution_count": 43,
   "metadata": {},
   "outputs": [
    {
     "data": {
      "text/html": [
       "<div>\n",
       "<style scoped>\n",
       "    .dataframe tbody tr th:only-of-type {\n",
       "        vertical-align: middle;\n",
       "    }\n",
       "\n",
       "    .dataframe tbody tr th {\n",
       "        vertical-align: top;\n",
       "    }\n",
       "\n",
       "    .dataframe thead th {\n",
       "        text-align: right;\n",
       "    }\n",
       "</style>\n",
       "<table border=\"1\" class=\"dataframe\">\n",
       "  <thead>\n",
       "    <tr style=\"text-align: right;\">\n",
       "      <th></th>\n",
       "      <th>Time</th>\n",
       "      <th>Signal1</th>\n",
       "      <th>Signal2</th>\n",
       "      <th>Label</th>\n",
       "      <th>Year</th>\n",
       "      <th>Month</th>\n",
       "    </tr>\n",
       "  </thead>\n",
       "  <tbody>\n",
       "    <tr>\n",
       "      <th>510000</th>\n",
       "      <td>2017-09-19 12:18:25.698</td>\n",
       "      <td>47842.554832</td>\n",
       "      <td>0.499167</td>\n",
       "      <td>B</td>\n",
       "      <td>2017</td>\n",
       "      <td>9</td>\n",
       "    </tr>\n",
       "    <tr>\n",
       "      <th>510001</th>\n",
       "      <td>2017-09-19 12:18:25.708</td>\n",
       "      <td>48258.447534</td>\n",
       "      <td>0.499155</td>\n",
       "      <td>B</td>\n",
       "      <td>2017</td>\n",
       "      <td>9</td>\n",
       "    </tr>\n",
       "    <tr>\n",
       "      <th>510002</th>\n",
       "      <td>2017-09-19 12:18:25.718</td>\n",
       "      <td>48654.923757</td>\n",
       "      <td>0.499143</td>\n",
       "      <td>B</td>\n",
       "      <td>2017</td>\n",
       "      <td>9</td>\n",
       "    </tr>\n",
       "    <tr>\n",
       "      <th>510003</th>\n",
       "      <td>2017-09-19 12:18:25.728</td>\n",
       "      <td>49015.036918</td>\n",
       "      <td>0.499130</td>\n",
       "      <td>B</td>\n",
       "      <td>2017</td>\n",
       "      <td>9</td>\n",
       "    </tr>\n",
       "    <tr>\n",
       "      <th>510004</th>\n",
       "      <td>2017-09-19 12:18:25.738</td>\n",
       "      <td>49323.169365</td>\n",
       "      <td>0.499117</td>\n",
       "      <td>B</td>\n",
       "      <td>2017</td>\n",
       "      <td>9</td>\n",
       "    </tr>\n",
       "    <tr>\n",
       "      <th>...</th>\n",
       "      <td>...</td>\n",
       "      <td>...</td>\n",
       "      <td>...</td>\n",
       "      <td>...</td>\n",
       "      <td>...</td>\n",
       "      <td>...</td>\n",
       "    </tr>\n",
       "    <tr>\n",
       "      <th>821995</th>\n",
       "      <td>2017-09-26 12:56:48.364</td>\n",
       "      <td>30046.252223</td>\n",
       "      <td>0.546830</td>\n",
       "      <td>B</td>\n",
       "      <td>2017</td>\n",
       "      <td>9</td>\n",
       "    </tr>\n",
       "    <tr>\n",
       "      <th>821996</th>\n",
       "      <td>2017-09-26 12:56:48.374</td>\n",
       "      <td>32747.288036</td>\n",
       "      <td>0.546804</td>\n",
       "      <td>B</td>\n",
       "      <td>2017</td>\n",
       "      <td>9</td>\n",
       "    </tr>\n",
       "    <tr>\n",
       "      <th>821997</th>\n",
       "      <td>2017-09-26 12:56:48.384</td>\n",
       "      <td>35648.107903</td>\n",
       "      <td>0.546778</td>\n",
       "      <td>B</td>\n",
       "      <td>2017</td>\n",
       "      <td>9</td>\n",
       "    </tr>\n",
       "    <tr>\n",
       "      <th>821998</th>\n",
       "      <td>2017-09-26 12:56:48.394</td>\n",
       "      <td>38646.426455</td>\n",
       "      <td>0.546754</td>\n",
       "      <td>B</td>\n",
       "      <td>2017</td>\n",
       "      <td>9</td>\n",
       "    </tr>\n",
       "    <tr>\n",
       "      <th>821999</th>\n",
       "      <td>2017-09-26 12:56:48.404</td>\n",
       "      <td>41636.075714</td>\n",
       "      <td>0.546730</td>\n",
       "      <td>B</td>\n",
       "      <td>2017</td>\n",
       "      <td>9</td>\n",
       "    </tr>\n",
       "  </tbody>\n",
       "</table>\n",
       "<p>312000 rows × 6 columns</p>\n",
       "</div>"
      ],
      "text/plain": [
       "                           Time       Signal1   Signal2 Label  Year  Month\n",
       "510000  2017-09-19 12:18:25.698  47842.554832  0.499167     B  2017      9\n",
       "510001  2017-09-19 12:18:25.708  48258.447534  0.499155     B  2017      9\n",
       "510002  2017-09-19 12:18:25.718  48654.923757  0.499143     B  2017      9\n",
       "510003  2017-09-19 12:18:25.728  49015.036918  0.499130     B  2017      9\n",
       "510004  2017-09-19 12:18:25.738  49323.169365  0.499117     B  2017      9\n",
       "...                         ...           ...       ...   ...   ...    ...\n",
       "821995  2017-09-26 12:56:48.364  30046.252223  0.546830     B  2017      9\n",
       "821996  2017-09-26 12:56:48.374  32747.288036  0.546804     B  2017      9\n",
       "821997  2017-09-26 12:56:48.384  35648.107903  0.546778     B  2017      9\n",
       "821998  2017-09-26 12:56:48.394  38646.426455  0.546754     B  2017      9\n",
       "821999  2017-09-26 12:56:48.404  41636.075714  0.546730     B  2017      9\n",
       "\n",
       "[312000 rows x 6 columns]"
      ]
     },
     "execution_count": 43,
     "metadata": {},
     "output_type": "execute_result"
    }
   ],
   "source": [
    "signalB = df[df['Label'] == 'B']\n",
    "signalB"
   ]
  },
  {
   "cell_type": "code",
   "execution_count": 44,
   "metadata": {},
   "outputs": [
    {
     "data": {
      "text/plain": [
       "[<matplotlib.lines.Line2D at 0x2188ced01d0>]"
      ]
     },
     "execution_count": 44,
     "metadata": {},
     "output_type": "execute_result"
    },
    {
     "data": {
      "image/png": "[encoded data removed]",
      "text/plain": [
       "<Figure size 432x288 with 1 Axes>"
      ]
     },
     "metadata": {
      "needs_background": "light"
     },
     "output_type": "display_data"
    }
   ],
   "source": [
    "plt.plot(signalB['Signal1'])"
   ]
  },
  {
   "cell_type": "code",
   "execution_count": 45,
   "metadata": {},
   "outputs": [
    {
     "data": {
      "text/plain": [
       "[<matplotlib.lines.Line2D at 0x2188cf2ef28>]"
      ]
     },
     "execution_count": 45,
     "metadata": {},
     "output_type": "execute_result"
    },
    {
     "data": {
      "image/png": "[encoded data removed]",
      "text/plain": [
       "<Figure size 432x288 with 1 Axes>"
      ]
     },
     "metadata": {
      "needs_background": "light"
     },
     "output_type": "display_data"
    }
   ],
   "source": [
    "plt.plot(signalB['Signal2'])"
   ]
  },
  {
   "cell_type": "markdown",
   "metadata": {},
   "source": [
    "#### Extracting information having Label-C"
   ]
  },
  {
   "cell_type": "code",
   "execution_count": 46,
   "metadata": {},
   "outputs": [
    {
     "data": {
      "text/html": [
       "<div>\n",
       "<style scoped>\n",
       "    .dataframe tbody tr th:only-of-type {\n",
       "        vertical-align: middle;\n",
       "    }\n",
       "\n",
       "    .dataframe tbody tr th {\n",
       "        vertical-align: top;\n",
       "    }\n",
       "\n",
       "    .dataframe thead th {\n",
       "        text-align: right;\n",
       "    }\n",
       "</style>\n",
       "<table border=\"1\" class=\"dataframe\">\n",
       "  <thead>\n",
       "    <tr style=\"text-align: right;\">\n",
       "      <th></th>\n",
       "      <th>Time</th>\n",
       "      <th>Signal1</th>\n",
       "      <th>Signal2</th>\n",
       "      <th>Label</th>\n",
       "      <th>Year</th>\n",
       "      <th>Month</th>\n",
       "    </tr>\n",
       "  </thead>\n",
       "  <tbody>\n",
       "    <tr>\n",
       "      <th>318000</th>\n",
       "      <td>2017-08-12 11:08:25.785</td>\n",
       "      <td>22719.403196</td>\n",
       "      <td>0.123263</td>\n",
       "      <td>C</td>\n",
       "      <td>2017</td>\n",
       "      <td>8</td>\n",
       "    </tr>\n",
       "    <tr>\n",
       "      <th>318001</th>\n",
       "      <td>2017-08-12 11:08:25.795</td>\n",
       "      <td>23608.265317</td>\n",
       "      <td>0.123268</td>\n",
       "      <td>C</td>\n",
       "      <td>2017</td>\n",
       "      <td>8</td>\n",
       "    </tr>\n",
       "    <tr>\n",
       "      <th>318002</th>\n",
       "      <td>2017-08-12 11:08:25.805</td>\n",
       "      <td>24524.544926</td>\n",
       "      <td>0.123273</td>\n",
       "      <td>C</td>\n",
       "      <td>2017</td>\n",
       "      <td>8</td>\n",
       "    </tr>\n",
       "    <tr>\n",
       "      <th>318003</th>\n",
       "      <td>2017-08-12 11:08:25.815</td>\n",
       "      <td>25479.836092</td>\n",
       "      <td>0.123279</td>\n",
       "      <td>C</td>\n",
       "      <td>2017</td>\n",
       "      <td>8</td>\n",
       "    </tr>\n",
       "    <tr>\n",
       "      <th>318004</th>\n",
       "      <td>2017-08-12 11:08:25.825</td>\n",
       "      <td>26475.848059</td>\n",
       "      <td>0.123285</td>\n",
       "      <td>C</td>\n",
       "      <td>2017</td>\n",
       "      <td>8</td>\n",
       "    </tr>\n",
       "    <tr>\n",
       "      <th>...</th>\n",
       "      <td>...</td>\n",
       "      <td>...</td>\n",
       "      <td>...</td>\n",
       "      <td>...</td>\n",
       "      <td>...</td>\n",
       "      <td>...</td>\n",
       "    </tr>\n",
       "    <tr>\n",
       "      <th>911995</th>\n",
       "      <td>2020-01-04 10:55:49.186</td>\n",
       "      <td>34673.811155</td>\n",
       "      <td>0.151395</td>\n",
       "      <td>C</td>\n",
       "      <td>2020</td>\n",
       "      <td>1</td>\n",
       "    </tr>\n",
       "    <tr>\n",
       "      <th>911996</th>\n",
       "      <td>2020-01-04 10:55:49.196</td>\n",
       "      <td>34672.951723</td>\n",
       "      <td>0.151385</td>\n",
       "      <td>C</td>\n",
       "      <td>2020</td>\n",
       "      <td>1</td>\n",
       "    </tr>\n",
       "    <tr>\n",
       "      <th>911997</th>\n",
       "      <td>2020-01-04 10:55:49.206</td>\n",
       "      <td>34671.967555</td>\n",
       "      <td>0.151373</td>\n",
       "      <td>C</td>\n",
       "      <td>2020</td>\n",
       "      <td>1</td>\n",
       "    </tr>\n",
       "    <tr>\n",
       "      <th>911998</th>\n",
       "      <td>2020-01-04 10:55:49.216</td>\n",
       "      <td>34670.877944</td>\n",
       "      <td>0.151359</td>\n",
       "      <td>C</td>\n",
       "      <td>2020</td>\n",
       "      <td>1</td>\n",
       "    </tr>\n",
       "    <tr>\n",
       "      <th>911999</th>\n",
       "      <td>2020-01-04 10:55:49.226</td>\n",
       "      <td>34669.694865</td>\n",
       "      <td>0.151342</td>\n",
       "      <td>C</td>\n",
       "      <td>2020</td>\n",
       "      <td>1</td>\n",
       "    </tr>\n",
       "  </tbody>\n",
       "</table>\n",
       "<p>282000 rows × 6 columns</p>\n",
       "</div>"
      ],
      "text/plain": [
       "                           Time       Signal1   Signal2 Label  Year  Month\n",
       "318000  2017-08-12 11:08:25.785  22719.403196  0.123263     C  2017      8\n",
       "318001  2017-08-12 11:08:25.795  23608.265317  0.123268     C  2017      8\n",
       "318002  2017-08-12 11:08:25.805  24524.544926  0.123273     C  2017      8\n",
       "318003  2017-08-12 11:08:25.815  25479.836092  0.123279     C  2017      8\n",
       "318004  2017-08-12 11:08:25.825  26475.848059  0.123285     C  2017      8\n",
       "...                         ...           ...       ...   ...   ...    ...\n",
       "911995  2020-01-04 10:55:49.186  34673.811155  0.151395     C  2020      1\n",
       "911996  2020-01-04 10:55:49.196  34672.951723  0.151385     C  2020      1\n",
       "911997  2020-01-04 10:55:49.206  34671.967555  0.151373     C  2020      1\n",
       "911998  2020-01-04 10:55:49.216  34670.877944  0.151359     C  2020      1\n",
       "911999  2020-01-04 10:55:49.226  34669.694865  0.151342     C  2020      1\n",
       "\n",
       "[282000 rows x 6 columns]"
      ]
     },
     "execution_count": 46,
     "metadata": {},
     "output_type": "execute_result"
    }
   ],
   "source": [
    "signalC = df[df['Label'] == 'C']\n",
    "signalC"
   ]
  },
  {
   "cell_type": "code",
   "execution_count": 47,
   "metadata": {},
   "outputs": [
    {
     "data": {
      "text/plain": [
       "[<matplotlib.lines.Line2D at 0x2188caa4b70>]"
      ]
     },
     "execution_count": 47,
     "metadata": {},
     "output_type": "execute_result"
    },
    {
     "data": {
      "image/png": "[encoded data removed]",
      "text/plain": [
       "<Figure size 432x288 with 1 Axes>"
      ]
     },
     "metadata": {
      "needs_background": "light"
     },
     "output_type": "display_data"
    }
   ],
   "source": [
    "plt.plot(signalC['Signal1'])"
   ]
  },
  {
   "cell_type": "code",
   "execution_count": 48,
   "metadata": {},
   "outputs": [
    {
     "data": {
      "text/plain": [
       "[<matplotlib.lines.Line2D at 0x2188c1e9198>]"
      ]
     },
     "execution_count": 48,
     "metadata": {},
     "output_type": "execute_result"
    },
    {
     "data": {
      "image/png": "[encoded data removed]",
      "text/plain": [
       "<Figure size 432x288 with 1 Axes>"
      ]
     },
     "metadata": {
      "needs_background": "light"
     },
     "output_type": "display_data"
    }
   ],
   "source": [
    "plt.plot(signalC['Signal2'])"
   ]
  },
  {
   "cell_type": "code",
   "execution_count": 49,
   "metadata": {},
   "outputs": [
    {
     "name": "stdout",
     "output_type": "stream",
     "text": [
      "Collecting hurst\n",
      "  Downloading hurst-0.0.5-py3-none-any.whl (5.9 kB)\n",
      "Requirement already satisfied: numpy>=1.10 in c:\\users\\dell\\anaconda3\\lib\\site-packages (from hurst) (1.19.2)\n",
      "Requirement already satisfied: pandas>=0.18 in c:\\users\\dell\\anaconda3\\lib\\site-packages (from hurst) (1.2.0)\n",
      "Requirement already satisfied: python-dateutil>=2.7.3 in c:\\users\\dell\\anaconda3\\lib\\site-packages (from pandas>=0.18->hurst) (2.8.1)\n",
      "Requirement already satisfied: pytz>=2017.3 in c:\\users\\dell\\anaconda3\\lib\\site-packages (from pandas>=0.18->hurst) (2020.5)\n",
      "Requirement already satisfied: six>=1.5 in c:\\users\\dell\\anaconda3\\lib\\site-packages (from python-dateutil>=2.7.3->pandas>=0.18->hurst) (1.15.0)\n",
      "Installing collected packages: hurst\n",
      "Successfully installed hurst-0.0.5\n",
      "Note: you may need to restart the kernel to use updated packages.\n"
     ]
    }
   ],
   "source": [
    "pip install hurst"
   ]
  },
  {
   "cell_type": "code",
   "execution_count": 1,
   "metadata": {},
   "outputs": [],
   "source": [
    "from hurst import compute_Hc"
   ]
  },
  {
   "cell_type": "code",
   "execution_count": 51,
   "metadata": {},
   "outputs": [],
   "source": [
    "H, c, data = compute_Hc(signalC['Signal1'], kind='price', simplified=True)"
   ]
  },
  {
   "cell_type": "code",
   "execution_count": 52,
   "metadata": {},
   "outputs": [
    {
     "name": "stdout",
     "output_type": "stream",
     "text": [
      "0.2525645107824219 25.154515370248312 [[10, 17, 31, 56, 100, 177, 316, 562, 1000, 1778, 3162, 5623, 10000, 17782, 31622, 56234, 100000, 177827, 282000], [71.01854906772773, 61.8103489831257, 62.493800302511204, 64.91325384677849, 52.89002238440289, 61.21115721616443, 74.85017231965665, 93.7411074707909, 123.03347613958913, 163.77517623815004, 210.8831102537081, 284.8463328308133, 376.061270207286, 639.4092837423991, 383.48641730397947, 762.8281571968998, 290.3557991859873, 350.67564960903985, 438.34244584219323]]\n"
     ]
    }
   ],
   "source": [
    "print(H, c, data)"
   ]
  },
  {
   "cell_type": "code",
   "execution_count": 53,
   "metadata": {},
   "outputs": [
    {
     "name": "stdout",
     "output_type": "stream",
     "text": [
      "0.39723816567485465\n"
     ]
    }
   ],
   "source": [
    "H, c, data = compute_Hc(signalC['Signal2'], kind='price', simplified=True)\n",
    "print(H)"
   ]
  },
  {
   "cell_type": "code",
   "execution_count": 55,
   "metadata": {},
   "outputs": [
    {
     "name": "stdout",
     "output_type": "stream",
     "text": [
      "0.38475923619919306\n"
     ]
    }
   ],
   "source": [
    "H, c, data = compute_Hc(signalA['Signal2'], kind='price', simplified=True)\n",
    "print(H)"
   ]
  },
  {
   "cell_type": "code",
   "execution_count": 56,
   "metadata": {},
   "outputs": [
    {
     "name": "stdout",
     "output_type": "stream",
     "text": [
      "0.2631565407516118\n"
     ]
    }
   ],
   "source": [
    "H, c, data = compute_Hc(signalB['Signal2'], kind='price', simplified=True)\n",
    "print(H)"
   ]
  },
  {
   "cell_type": "markdown",
   "metadata": {},
   "source": [
    "#### Consensus from Hurst Exponent\n",
    "For all labels in accordance with Signal-1 and Signal-2, the value of Hurst exponent is less than 0.5. Thus, the behaviour is Anti-Persistent as in the short term the values will tend to go against their existing trends."
   ]
  },
  {
   "cell_type": "markdown",
   "metadata": {},
   "source": [
    "### Conclusion"
   ]
  },
  {
   "cell_type": "markdown",
   "metadata": {},
   "source": [
    "According to the boxplot represented above between Signals and Labels, it turned out that label is kind of same with respect to Signal-1 but for Signal-2 Label-A and Label-B behaved same but differently in accordance with Label-C.\n",
    "\n",
    "As boxplot represents the distribution as in the mean and variance between the given x and y. Thus Label-C is not distributed evenly.\n",
    "\n",
    "Apart from the Signals, time has also been taken into consideration. The data is stipulated beween two years as in 2017 and 2020. Thus, on plotting a basic scatter plot, it has been observed that Label-A and Label-B resides only in the 2017. However, Label-C is varied in both 2017 and 2020. Thus, needs more processing to understand.\n",
    "But, as month has also been plotted alongside label, a pattern could be observed that Label is C only in the first and eighth month of 2020 and 2017 whereas Label is A in the eighth and ninth month of 2017. However, Label is B only in the ninth month of the year 2017.\n",
    "\n",
    "Thus, it's clear that Label-C is more complex than the other two labels given."
   ]
  }
 ],
 "metadata": {
  "kernelspec": {
   "display_name": "Python 3",
   "language": "python",
   "name": "python3"
  },
  "language_info": {
   "codemirror_mode": {
    "name": "ipython",
    "version": 3
   },
   "file_extension": ".py",
   "mimetype": "text/x-python",
   "name": "python",
   "nbconvert_exporter": "python",
   "pygments_lexer": "ipython3",
   "version": "3.7.0"
  }
 },
 "nbformat": 4,
 "nbformat_minor": 4
}
